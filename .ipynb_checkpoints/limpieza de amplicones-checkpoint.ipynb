{
 "cells": [
  {
   "cell_type": "markdown",
   "metadata": {},
   "source": [
    "##Protocolo limpieza y procesado inicial de amplicones\n",
    "   "
   ]
  },
  {
   "cell_type": "code",
   "execution_count": null,
   "metadata": {
    "collapsed": true
   },
   "outputs": [],
   "source": [
    "#Visualizar la calidad de las secuencias y armar una tabla con la siguiente información:\n"
   ]
  },
  {
   "cell_type": "code",
   "execution_count": null,
   "metadata": {
    "collapsed": true
   },
   "outputs": [],
   "source": [
    "ls *.fastq.gz | perl -pe 's/_R.*.fastq.gz//g' | sort | uniq >lista #genera la lista\n",
    "ln -s scritps/assembly.sh assembly.sh #link simbólico al script de ensamblado\n",
    "bash assembly.sh nov1616assembly #se corre el script que genera los trabajos de ensamble usando PANDASEQ (requerimento previo)\n",
    "for N in `ls *.scr`; do qsub $N; done # se mandan al cluster los trabajos de ensamblado"
   ]
  },
  {
   "cell_type": "markdown",
   "metadata": {},
   "source": [
    "El script de pandaseq utiliza los siguientes parámetros:\n",
    "\n",
    "Particularly the following options were modified:\n",
    "\n",
    "−o minoverlap\n",
    "Sets the minimum overlap between forward and reverse reads. By default, this is at least one nucleotide of overlap. Raising this number does not generally increase the quality of the output as alignments with small overlaps tend to score poorly and are discarded anyway. This was chosen to be a value of 15, rather than 1. \n",
    "−O maxoverlap\n",
    "Sets the maximum overlap between forward and reverse reads. By default, this is the read length. In highly overlapping sequences (i.e., those where the end of one read precede the start of the other), this parameter should be set to the sum of the input reads, or a value larger than that. The maxoverlap was set to default which is the read length\n",
    "−t threshold\n",
    "The score, between zero and one, that a sequence must meet to be kept in the output. Any alignments lower than this will be discarded as low quality. Increasing this number will not necessarily prevent uncalled bases (Ns) from appearing in the final sequence. It is also used as the threshold to match primers, if primers are supplied. The default value is 0.6. Our chosen value was 0.95 in a 0-1 scale. \n",
    "\n",
    "Length was filtered up to a size of 470 bp because the expected amplicon size is around 460 bp from the 16S rRNA gene V3-V4 primers (http://support.illumina.com/content/dam/illumina-support/documents/documentation/chemistry_documentation/16s/16s-metagenomic-library-prep-guide-15044223-b.pdf)."
   ]
  }
 ],
 "metadata": {
  "kernelspec": {
   "display_name": "Bash",
   "language": "bash",
   "name": "bash"
  },
  "language_info": {
   "codemirror_mode": "shell",
   "file_extension": ".sh",
   "mimetype": "text/x-sh",
   "name": "bash"
  }
 },
 "nbformat": 4,
 "nbformat_minor": 1
}
